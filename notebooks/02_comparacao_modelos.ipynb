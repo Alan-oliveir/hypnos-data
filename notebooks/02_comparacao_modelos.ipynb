{
 "nbformat": 4,
 "nbformat_minor": 0,
 "metadata": {
  "colab": {
   "provenance": [],
   "collapsed_sections": [
    "MGTy59VhLTj_",
    "yWuahzC3LX-u",
    "xg1-ywVWOq7l",
    "n70mN-Z7UzUj"
   ]
  },
  "kernelspec": {
   "name": "python3",
   "display_name": "Python 3 (ipykernel)",
   "language": "python"
  },
  "language_info": {
   "name": "python"
  }
 },
 "cells": [
  {
   "cell_type": "markdown",
   "source": [
    "# Projeto de Análise Comparativa de modelos\n",
    "\n",
    "**Disciplina:** [Ciência de Dados]  \n",
    "**Professor(a):** [Madson Dias]  \n",
    "**Equipe:**  \n",
    "- Alan De Oliveira Gonçalves\n",
    "- Ayrton Lucas Viana Albuquerque Silva\n",
    "- Cauan Halison Arantes de Oliveira\n",
    "- Hosana Maria Ferro Dias\n",
    "\n",
    "**Conjunto de Dados:** [sleep_efficiency.csv]  \n",
    "**Fonte:** [https://www.kaggle.com/datasets/equilibriumm/sleep-efficiency/data]"
   ],
   "metadata": {
    "id": "ARuETYk7KPN2"
   }
  },
  {
   "cell_type": "markdown",
   "source": [
    "## 1. Bibliotecas e Carregamento de Dados"
   ],
   "metadata": {
    "id": "MGTy59VhLTj_"
   }
  },
  {
   "cell_type": "code",
   "metadata": {
    "id": "ajZsoyNkKKoD",
    "ExecuteTime": {
     "end_time": "2025-11-01T16:52:38.429385Z",
     "start_time": "2025-11-01T16:52:38.413753Z"
    }
   },
   "source": [
    "# @title Importação de  bibliotecas\n",
    "\n",
    "import os\n",
    "import sys\n",
    "\n",
    "import pandas as pd\n",
    "import numpy as np\n",
    "import matplotlib.pyplot as plt\n",
    "import seaborn as sns\n",
    "from IPython.display import display, Markdown\n",
    "from sklearn.model_selection import train_test_split, KFold, cross_validate, GridSearchCV\n",
    "from sklearn.pipeline import Pipeline\n",
    "from sklearn.impute import SimpleImputer\n",
    "from sklearn.preprocessing import StandardScaler, OneHotEncoder\n",
    "from sklearn.compose import ColumnTransformer\n",
    "from sklearn.base import BaseEstimator, TransformerMixin\n",
    "from sklearn.dummy import DummyRegressor\n",
    "from sklearn.linear_model import LinearRegression\n",
    "from sklearn.tree import DecisionTreeRegressor\n",
    "from sklearn.neighbors import KNeighborsRegressor\n",
    "from sklearn.svm import SVR\n",
    "from sklearn.ensemble import RandomForestRegressor, GradientBoostingRegressor"
   ],
   "outputs": [],
   "execution_count": 13
  },
  {
   "metadata": {
    "ExecuteTime": {
     "end_time": "2025-11-01T16:52:38.471240Z",
     "start_time": "2025-11-01T16:52:38.455609Z"
    }
   },
   "cell_type": "code",
   "source": [
    "# @title Configuração do path para importação de módulos\n",
    "\n",
    "# Adicionar a pasta src ao path\n",
    "sys.path.append('..')\n",
    "\n",
    "# Importar função utilitária\n",
    "from src.data.utils import get_input_path"
   ],
   "outputs": [],
   "execution_count": 14
  },
  {
   "cell_type": "code",
   "source": [
    "# @title Leitura do conjunto de dados\n",
    "\n",
    "# Tentar carregar os dados processados\n",
    "input_path = get_input_path(\"Sleep_Efficiency_Processed.csv\")\n",
    "\n",
    "try:\n",
    "    df = pd.read_csv(input_path)\n",
    "    print(f\"Dados carregados com sucesso!\")\n",
    "    print(f\"Shape: {df.shape}\")\n",
    "\n",
    "except FileNotFoundError:\n",
    "    print(f\"Arquivo não encontrado: {input_path}\")\n",
    "    print(\"Execute primeiro o notebook de EDA para gerar os dados processados.\")\n",
    "\n",
    "    # Opcional: carregar dados brutos e processar\n",
    "    df = pd.read_csv(\n",
    "        \"https://raw.githubusercontent.com/atlantico-academy/datasets/refs/heads/main/sleep_efficiency.csv\"\n",
    "    )"
   ],
   "metadata": {
    "id": "lFgfz_WzKsLG",
    "ExecuteTime": {
     "end_time": "2025-11-01T16:52:38.492751Z",
     "start_time": "2025-11-01T16:52:38.477099Z"
    }
   },
   "outputs": [
    {
     "name": "stdout",
     "output_type": "stream",
     "text": [
      "Ambiente: Local\n",
      "Dados carregados com sucesso!\n",
      "Shape: (452, 15)\n"
     ]
    }
   ],
   "execution_count": 15
  },
  {
   "cell_type": "code",
   "source": [
    "# @title Informações Iniciais\n",
    "\n",
    "display(Markdown(\"### Primeiras Linhas\"))\n",
    "display(df.head())\n",
    "\n",
    "display(Markdown(\"### Últimas Linhas\"))\n",
    "display(df.tail())\n",
    "\n",
    "display(Markdown(\"### Informações das variáveis\"))\n",
    "df.info()\n",
    "\n",
    "display(Markdown(\"### Quantidade de valores únicos\"))\n",
    "df.nunique()"
   ],
   "metadata": {
    "colab": {
     "base_uri": "https://localhost:8080/",
     "height": 1000
    },
    "id": "OPk_Go8RK3qC",
    "outputId": "de8540de-6e6c-4a93-c62e-654e4993dc57",
    "ExecuteTime": {
     "end_time": "2025-11-01T16:52:38.554420Z",
     "start_time": "2025-11-01T16:52:38.504603Z"
    }
   },
   "outputs": [
    {
     "data": {
      "text/plain": [
       "<IPython.core.display.Markdown object>"
      ],
      "text/markdown": "### Primeiras Linhas"
     },
     "metadata": {},
     "output_type": "display_data",
     "jetTransient": {
      "display_id": null
     }
    },
    {
     "data": {
      "text/plain": [
       "   ID  Age  Gender              Bedtime          Wakeup time  Sleep duration  \\\n",
       "0   1   65  Female  2021-03-06 01:00:00  2021-03-06 07:00:00             6.0   \n",
       "1   2   69    Male  2021-12-05 02:00:00  2021-12-05 09:00:00             7.0   \n",
       "2   3   40  Female  2021-05-25 21:30:00  2021-05-25 05:30:00             8.0   \n",
       "3   4   40  Female  2021-11-03 02:30:00  2021-11-03 08:30:00             6.0   \n",
       "4   5   57    Male  2021-03-13 01:00:00  2021-03-13 09:00:00             8.0   \n",
       "\n",
       "   Sleep efficiency  REM sleep percentage  Deep sleep percentage  \\\n",
       "0              0.88                    18                     70   \n",
       "1              0.66                    19                     28   \n",
       "2              0.89                    20                     70   \n",
       "3              0.51                    23                     25   \n",
       "4              0.76                    27                     55   \n",
       "\n",
       "   Light sleep percentage  Awakenings  Caffeine consumption  \\\n",
       "0                      12         0.0                   0.0   \n",
       "1                      53         3.0                   0.0   \n",
       "2                      10         1.0                   0.0   \n",
       "3                      52         3.0                  50.0   \n",
       "4                      18         3.0                   0.0   \n",
       "\n",
       "   Alcohol consumption Smoking status  Exercise frequency  \n",
       "0                  0.0            Yes                 3.0  \n",
       "1                  3.0            Yes                 3.0  \n",
       "2                  0.0             No                 3.0  \n",
       "3                  5.0            Yes                 1.0  \n",
       "4                  3.0             No                 3.0  "
      ],
      "text/html": [
       "<div>\n",
       "<style scoped>\n",
       "    .dataframe tbody tr th:only-of-type {\n",
       "        vertical-align: middle;\n",
       "    }\n",
       "\n",
       "    .dataframe tbody tr th {\n",
       "        vertical-align: top;\n",
       "    }\n",
       "\n",
       "    .dataframe thead th {\n",
       "        text-align: right;\n",
       "    }\n",
       "</style>\n",
       "<table border=\"1\" class=\"dataframe\">\n",
       "  <thead>\n",
       "    <tr style=\"text-align: right;\">\n",
       "      <th></th>\n",
       "      <th>ID</th>\n",
       "      <th>Age</th>\n",
       "      <th>Gender</th>\n",
       "      <th>Bedtime</th>\n",
       "      <th>Wakeup time</th>\n",
       "      <th>Sleep duration</th>\n",
       "      <th>Sleep efficiency</th>\n",
       "      <th>REM sleep percentage</th>\n",
       "      <th>Deep sleep percentage</th>\n",
       "      <th>Light sleep percentage</th>\n",
       "      <th>Awakenings</th>\n",
       "      <th>Caffeine consumption</th>\n",
       "      <th>Alcohol consumption</th>\n",
       "      <th>Smoking status</th>\n",
       "      <th>Exercise frequency</th>\n",
       "    </tr>\n",
       "  </thead>\n",
       "  <tbody>\n",
       "    <tr>\n",
       "      <th>0</th>\n",
       "      <td>1</td>\n",
       "      <td>65</td>\n",
       "      <td>Female</td>\n",
       "      <td>2021-03-06 01:00:00</td>\n",
       "      <td>2021-03-06 07:00:00</td>\n",
       "      <td>6.0</td>\n",
       "      <td>0.88</td>\n",
       "      <td>18</td>\n",
       "      <td>70</td>\n",
       "      <td>12</td>\n",
       "      <td>0.0</td>\n",
       "      <td>0.0</td>\n",
       "      <td>0.0</td>\n",
       "      <td>Yes</td>\n",
       "      <td>3.0</td>\n",
       "    </tr>\n",
       "    <tr>\n",
       "      <th>1</th>\n",
       "      <td>2</td>\n",
       "      <td>69</td>\n",
       "      <td>Male</td>\n",
       "      <td>2021-12-05 02:00:00</td>\n",
       "      <td>2021-12-05 09:00:00</td>\n",
       "      <td>7.0</td>\n",
       "      <td>0.66</td>\n",
       "      <td>19</td>\n",
       "      <td>28</td>\n",
       "      <td>53</td>\n",
       "      <td>3.0</td>\n",
       "      <td>0.0</td>\n",
       "      <td>3.0</td>\n",
       "      <td>Yes</td>\n",
       "      <td>3.0</td>\n",
       "    </tr>\n",
       "    <tr>\n",
       "      <th>2</th>\n",
       "      <td>3</td>\n",
       "      <td>40</td>\n",
       "      <td>Female</td>\n",
       "      <td>2021-05-25 21:30:00</td>\n",
       "      <td>2021-05-25 05:30:00</td>\n",
       "      <td>8.0</td>\n",
       "      <td>0.89</td>\n",
       "      <td>20</td>\n",
       "      <td>70</td>\n",
       "      <td>10</td>\n",
       "      <td>1.0</td>\n",
       "      <td>0.0</td>\n",
       "      <td>0.0</td>\n",
       "      <td>No</td>\n",
       "      <td>3.0</td>\n",
       "    </tr>\n",
       "    <tr>\n",
       "      <th>3</th>\n",
       "      <td>4</td>\n",
       "      <td>40</td>\n",
       "      <td>Female</td>\n",
       "      <td>2021-11-03 02:30:00</td>\n",
       "      <td>2021-11-03 08:30:00</td>\n",
       "      <td>6.0</td>\n",
       "      <td>0.51</td>\n",
       "      <td>23</td>\n",
       "      <td>25</td>\n",
       "      <td>52</td>\n",
       "      <td>3.0</td>\n",
       "      <td>50.0</td>\n",
       "      <td>5.0</td>\n",
       "      <td>Yes</td>\n",
       "      <td>1.0</td>\n",
       "    </tr>\n",
       "    <tr>\n",
       "      <th>4</th>\n",
       "      <td>5</td>\n",
       "      <td>57</td>\n",
       "      <td>Male</td>\n",
       "      <td>2021-03-13 01:00:00</td>\n",
       "      <td>2021-03-13 09:00:00</td>\n",
       "      <td>8.0</td>\n",
       "      <td>0.76</td>\n",
       "      <td>27</td>\n",
       "      <td>55</td>\n",
       "      <td>18</td>\n",
       "      <td>3.0</td>\n",
       "      <td>0.0</td>\n",
       "      <td>3.0</td>\n",
       "      <td>No</td>\n",
       "      <td>3.0</td>\n",
       "    </tr>\n",
       "  </tbody>\n",
       "</table>\n",
       "</div>"
      ]
     },
     "metadata": {},
     "output_type": "display_data",
     "jetTransient": {
      "display_id": null
     }
    },
    {
     "data": {
      "text/plain": [
       "<IPython.core.display.Markdown object>"
      ],
      "text/markdown": "### Últimas Linhas"
     },
     "metadata": {},
     "output_type": "display_data",
     "jetTransient": {
      "display_id": null
     }
    },
    {
     "data": {
      "text/plain": [
       "      ID  Age  Gender              Bedtime          Wakeup time  \\\n",
       "447  448   27  Female  2021-11-13 22:00:00  2021-11-13 05:30:00   \n",
       "448  449   52    Male  2021-03-31 21:00:00  2021-03-31 03:00:00   \n",
       "449  450   40  Female  2021-09-07 23:00:00  2021-09-07 07:30:00   \n",
       "450  451   45    Male  2021-07-29 21:00:00  2021-07-29 04:00:00   \n",
       "451  452   18    Male  2021-03-17 02:30:00  2021-03-17 10:00:00   \n",
       "\n",
       "     Sleep duration  Sleep efficiency  REM sleep percentage  \\\n",
       "447             7.5              0.91                    22   \n",
       "448             6.0              0.74                    28   \n",
       "449             8.5              0.55                    20   \n",
       "450             7.0              0.76                    18   \n",
       "451             7.5              0.63                    22   \n",
       "\n",
       "     Deep sleep percentage  Light sleep percentage  Awakenings  \\\n",
       "447                     57                      21         0.0   \n",
       "448                     57                      15         4.0   \n",
       "449                     32                      48         1.0   \n",
       "450                     72                      10         3.0   \n",
       "451                     23                      55         1.0   \n",
       "\n",
       "     Caffeine consumption  Alcohol consumption Smoking status  \\\n",
       "447                   0.0                  0.0             No   \n",
       "448                  25.0                  0.0             No   \n",
       "449                  25.0                  3.0            Yes   \n",
       "450                   0.0                  0.0             No   \n",
       "451                  50.0                  0.0             No   \n",
       "\n",
       "     Exercise frequency  \n",
       "447                 5.0  \n",
       "448                 3.0  \n",
       "449                 0.0  \n",
       "450                 3.0  \n",
       "451                 1.0  "
      ],
      "text/html": [
       "<div>\n",
       "<style scoped>\n",
       "    .dataframe tbody tr th:only-of-type {\n",
       "        vertical-align: middle;\n",
       "    }\n",
       "\n",
       "    .dataframe tbody tr th {\n",
       "        vertical-align: top;\n",
       "    }\n",
       "\n",
       "    .dataframe thead th {\n",
       "        text-align: right;\n",
       "    }\n",
       "</style>\n",
       "<table border=\"1\" class=\"dataframe\">\n",
       "  <thead>\n",
       "    <tr style=\"text-align: right;\">\n",
       "      <th></th>\n",
       "      <th>ID</th>\n",
       "      <th>Age</th>\n",
       "      <th>Gender</th>\n",
       "      <th>Bedtime</th>\n",
       "      <th>Wakeup time</th>\n",
       "      <th>Sleep duration</th>\n",
       "      <th>Sleep efficiency</th>\n",
       "      <th>REM sleep percentage</th>\n",
       "      <th>Deep sleep percentage</th>\n",
       "      <th>Light sleep percentage</th>\n",
       "      <th>Awakenings</th>\n",
       "      <th>Caffeine consumption</th>\n",
       "      <th>Alcohol consumption</th>\n",
       "      <th>Smoking status</th>\n",
       "      <th>Exercise frequency</th>\n",
       "    </tr>\n",
       "  </thead>\n",
       "  <tbody>\n",
       "    <tr>\n",
       "      <th>447</th>\n",
       "      <td>448</td>\n",
       "      <td>27</td>\n",
       "      <td>Female</td>\n",
       "      <td>2021-11-13 22:00:00</td>\n",
       "      <td>2021-11-13 05:30:00</td>\n",
       "      <td>7.5</td>\n",
       "      <td>0.91</td>\n",
       "      <td>22</td>\n",
       "      <td>57</td>\n",
       "      <td>21</td>\n",
       "      <td>0.0</td>\n",
       "      <td>0.0</td>\n",
       "      <td>0.0</td>\n",
       "      <td>No</td>\n",
       "      <td>5.0</td>\n",
       "    </tr>\n",
       "    <tr>\n",
       "      <th>448</th>\n",
       "      <td>449</td>\n",
       "      <td>52</td>\n",
       "      <td>Male</td>\n",
       "      <td>2021-03-31 21:00:00</td>\n",
       "      <td>2021-03-31 03:00:00</td>\n",
       "      <td>6.0</td>\n",
       "      <td>0.74</td>\n",
       "      <td>28</td>\n",
       "      <td>57</td>\n",
       "      <td>15</td>\n",
       "      <td>4.0</td>\n",
       "      <td>25.0</td>\n",
       "      <td>0.0</td>\n",
       "      <td>No</td>\n",
       "      <td>3.0</td>\n",
       "    </tr>\n",
       "    <tr>\n",
       "      <th>449</th>\n",
       "      <td>450</td>\n",
       "      <td>40</td>\n",
       "      <td>Female</td>\n",
       "      <td>2021-09-07 23:00:00</td>\n",
       "      <td>2021-09-07 07:30:00</td>\n",
       "      <td>8.5</td>\n",
       "      <td>0.55</td>\n",
       "      <td>20</td>\n",
       "      <td>32</td>\n",
       "      <td>48</td>\n",
       "      <td>1.0</td>\n",
       "      <td>25.0</td>\n",
       "      <td>3.0</td>\n",
       "      <td>Yes</td>\n",
       "      <td>0.0</td>\n",
       "    </tr>\n",
       "    <tr>\n",
       "      <th>450</th>\n",
       "      <td>451</td>\n",
       "      <td>45</td>\n",
       "      <td>Male</td>\n",
       "      <td>2021-07-29 21:00:00</td>\n",
       "      <td>2021-07-29 04:00:00</td>\n",
       "      <td>7.0</td>\n",
       "      <td>0.76</td>\n",
       "      <td>18</td>\n",
       "      <td>72</td>\n",
       "      <td>10</td>\n",
       "      <td>3.0</td>\n",
       "      <td>0.0</td>\n",
       "      <td>0.0</td>\n",
       "      <td>No</td>\n",
       "      <td>3.0</td>\n",
       "    </tr>\n",
       "    <tr>\n",
       "      <th>451</th>\n",
       "      <td>452</td>\n",
       "      <td>18</td>\n",
       "      <td>Male</td>\n",
       "      <td>2021-03-17 02:30:00</td>\n",
       "      <td>2021-03-17 10:00:00</td>\n",
       "      <td>7.5</td>\n",
       "      <td>0.63</td>\n",
       "      <td>22</td>\n",
       "      <td>23</td>\n",
       "      <td>55</td>\n",
       "      <td>1.0</td>\n",
       "      <td>50.0</td>\n",
       "      <td>0.0</td>\n",
       "      <td>No</td>\n",
       "      <td>1.0</td>\n",
       "    </tr>\n",
       "  </tbody>\n",
       "</table>\n",
       "</div>"
      ]
     },
     "metadata": {},
     "output_type": "display_data",
     "jetTransient": {
      "display_id": null
     }
    },
    {
     "data": {
      "text/plain": [
       "<IPython.core.display.Markdown object>"
      ],
      "text/markdown": "### Informações das variáveis"
     },
     "metadata": {},
     "output_type": "display_data",
     "jetTransient": {
      "display_id": null
     }
    },
    {
     "name": "stdout",
     "output_type": "stream",
     "text": [
      "<class 'pandas.core.frame.DataFrame'>\n",
      "RangeIndex: 452 entries, 0 to 451\n",
      "Data columns (total 15 columns):\n",
      " #   Column                  Non-Null Count  Dtype  \n",
      "---  ------                  --------------  -----  \n",
      " 0   ID                      452 non-null    int64  \n",
      " 1   Age                     452 non-null    int64  \n",
      " 2   Gender                  452 non-null    object \n",
      " 3   Bedtime                 452 non-null    object \n",
      " 4   Wakeup time             452 non-null    object \n",
      " 5   Sleep duration          452 non-null    float64\n",
      " 6   Sleep efficiency        452 non-null    float64\n",
      " 7   REM sleep percentage    452 non-null    int64  \n",
      " 8   Deep sleep percentage   452 non-null    int64  \n",
      " 9   Light sleep percentage  452 non-null    int64  \n",
      " 10  Awakenings              452 non-null    float64\n",
      " 11  Caffeine consumption    452 non-null    float64\n",
      " 12  Alcohol consumption     452 non-null    float64\n",
      " 13  Smoking status          452 non-null    object \n",
      " 14  Exercise frequency      452 non-null    float64\n",
      "dtypes: float64(6), int64(5), object(4)\n",
      "memory usage: 53.1+ KB\n"
     ]
    },
    {
     "data": {
      "text/plain": [
       "<IPython.core.display.Markdown object>"
      ],
      "text/markdown": "### Quantidade de valores únicos"
     },
     "metadata": {},
     "output_type": "display_data",
     "jetTransient": {
      "display_id": null
     }
    },
    {
     "data": {
      "text/plain": [
       "ID                        452\n",
       "Age                        61\n",
       "Gender                      2\n",
       "Bedtime                   424\n",
       "Wakeup time               434\n",
       "Sleep duration              9\n",
       "Sleep efficiency           50\n",
       "REM sleep percentage       13\n",
       "Deep sleep percentage      29\n",
       "Light sleep percentage     29\n",
       "Awakenings                  5\n",
       "Caffeine consumption        6\n",
       "Alcohol consumption         6\n",
       "Smoking status              2\n",
       "Exercise frequency          6\n",
       "dtype: int64"
      ]
     },
     "execution_count": 16,
     "metadata": {},
     "output_type": "execute_result"
    }
   ],
   "execution_count": 16
  },
  {
   "cell_type": "markdown",
   "source": [
    "## 2. Limpeza e Engenharia de Features"
   ],
   "metadata": {
    "id": "yWuahzC3LX-u"
   }
  },
  {
   "cell_type": "code",
   "source": [
    "# @title limpeza de dados\n",
    "\n",
    "# Copiar o dataframe para evitar alterações no original\n",
    "df_processed = df.copy()\n",
    "\n",
    "# Remover a coluna de ID\n",
    "df_processed = df_processed.drop(columns=['ID'])\n",
    "\n",
    "# Converter colunas de data/hora para o formato datetime\n",
    "df_processed['Bedtime'] = pd.to_datetime(df_processed['Bedtime'])\n",
    "df_processed['Wakeup time'] = pd.to_datetime(df_processed['Wakeup time'])\n",
    "\n",
    "# Engenharia de Features Cíclicas para os horários\n",
    "df_processed['bedtime_hour_sin'] = np.sin(df_processed['Bedtime'].dt.hour * (2. * np.pi / 24))\n",
    "df_processed['bedtime_hour_cos'] = np.cos(df_processed['Bedtime'].dt.hour * (2. * np.pi / 24))\n",
    "df_processed['wakeup_hour_sin'] = np.sin(df_processed['Wakeup time'].dt.hour * (2. * np.pi / 24))\n",
    "df_processed['wakeup_hour_cos'] = np.cos(df_processed['Wakeup time'].dt.hour * (2. * np.pi / 24))\n",
    "\n",
    "# Remover as colunas originais de data/hora\n",
    "df_processed = df_processed.drop(columns=['Bedtime', 'Wakeup time'])\n",
    "\n",
    "# Renomear colunas para o padrão snake_case\n",
    "df_processed.columns = [col.replace(' ', '_').lower() for col in df_processed.columns]\n"
   ],
   "metadata": {
    "id": "h0B07rfGMSRi",
    "ExecuteTime": {
     "end_time": "2025-11-01T16:52:38.976648Z",
     "start_time": "2025-11-01T16:52:38.945371Z"
    }
   },
   "outputs": [],
   "execution_count": 17
  },
  {
   "cell_type": "code",
   "source": [
    "# @title Separação das variáveis target e features\n",
    "\n",
    "# A variável alvo (target) - 'sleep_efficiency'\n",
    "TARGET = 'sleep_efficiency'\n",
    "\n",
    "# Separar as features (X) e o alvo (y)\n",
    "X = df_processed.drop(columns=[TARGET])\n",
    "y = df_processed[TARGET]\n",
    "\n",
    "# Identificar os tipos de variáveis para aplicar os tratamentos corretos\n",
    "numeric_features = X.select_dtypes(include=np.number).columns.tolist()\n",
    "categorical_features = X.select_dtypes(exclude=np.number).columns.tolist()\n",
    "\n",
    "print(f\"Variáveis numéricas: {numeric_features}\")\n",
    "print(f\"Variáveis categóricas: {categorical_features}\")"
   ],
   "metadata": {
    "colab": {
     "base_uri": "https://localhost:8080/"
    },
    "id": "8e0fCEfdOHZT",
    "outputId": "c3f0d724-d99b-425a-f41e-051873100c2e",
    "ExecuteTime": {
     "end_time": "2025-11-01T16:52:39.142425Z",
     "start_time": "2025-11-01T16:52:39.126798Z"
    }
   },
   "outputs": [
    {
     "name": "stdout",
     "output_type": "stream",
     "text": [
      "Variáveis numéricas: ['age', 'sleep_duration', 'rem_sleep_percentage', 'deep_sleep_percentage', 'light_sleep_percentage', 'awakenings', 'caffeine_consumption', 'alcohol_consumption', 'exercise_frequency', 'bedtime_hour_sin', 'bedtime_hour_cos', 'wakeup_hour_sin', 'wakeup_hour_cos']\n",
      "Variáveis categóricas: ['gender', 'smoking_status']\n"
     ]
    }
   ],
   "execution_count": 18
  },
  {
   "cell_type": "markdown",
   "source": [
    "## Pipeline de Pré-Processamento"
   ],
   "metadata": {
    "id": "xg1-ywVWOq7l"
   }
  },
  {
   "cell_type": "markdown",
   "source": [
    "**Neste projeto usaremos**\n",
    "\n",
    "Pipeline para variáveis numéricas:\n",
    "\n",
    "1. SimpleImputer: Preenche valores faltantes com a mediana da coluna. A mediana é mais robusta a outliers do que a média.\n",
    "2. StandardScaler: Normaliza as variáveis, colocando-as na mesma escala. Isso é importante para modelos como SVM e Regressão Linear.\n",
    "\n",
    "Pipeline para variáveis categóricas:\n",
    "\n",
    "1. SimpleImputer: Preenche valores faltantes com o valor mais frequente (moda).\n",
    "2. OneHotEncoder: Converte as categorias em colunas numéricas (0s e 1s), o que permite que o modelo as utilize. 'handle_unknown='ignore'' evita erros se uma nova categoria aparecer nos dados de teste.\n",
    "\n",
    "\n",
    "Tratamento das colunas:\n",
    "\n",
    "- ColumnTransformer: Aplica os pipelines corretos para cada tipo de coluna. As colunas numéricas passarão pelo 'numeric_transformer'. As colunas categóricas passarão pelo 'categorical_transformer'."
   ],
   "metadata": {
    "id": "Wy3midP7QGiM"
   }
  },
  {
   "cell_type": "code",
   "source": [
    "# @title Pipeline para variáveis numéricas\n",
    "\n",
    "numeric_transformer = Pipeline(steps=[\n",
    "    ('imputer', SimpleImputer(strategy='median')),\n",
    "    ('scaler', StandardScaler())\n",
    "])"
   ],
   "metadata": {
    "id": "LeHeoy0zQKJP",
    "ExecuteTime": {
     "end_time": "2025-11-01T16:52:39.206505Z",
     "start_time": "2025-11-01T16:52:39.190844Z"
    }
   },
   "outputs": [],
   "execution_count": 19
  },
  {
   "cell_type": "code",
   "source": [
    "# @title Pipeline para variáveis categóricas\n",
    "\n",
    "categorical_transformer = Pipeline(steps=[\n",
    "    ('imputer', SimpleImputer(strategy='most_frequent')),\n",
    "    ('onehot', OneHotEncoder(handle_unknown='ignore', drop='first'))\n",
    "])"
   ],
   "metadata": {
    "id": "pNiLinf8Qle4",
    "ExecuteTime": {
     "end_time": "2025-11-01T16:52:39.226126Z",
     "start_time": "2025-11-01T16:52:39.210307Z"
    }
   },
   "outputs": [],
   "execution_count": 20
  },
  {
   "cell_type": "code",
   "source": [
    "# @title ColumnTransformer - Aplica os pipelines para cada tipo de coluna.\n",
    "\n",
    "preprocessor = ColumnTransformer(\n",
    "    transformers=[\n",
    "        ('num', numeric_transformer, numeric_features),\n",
    "        ('cat', categorical_transformer, categorical_features)\n",
    "    ],\n",
    "    remainder='passthrough'\n",
    ")"
   ],
   "metadata": {
    "id": "6ncmboRcQp5A",
    "ExecuteTime": {
     "end_time": "2025-11-01T16:52:39.257383Z",
     "start_time": "2025-11-01T16:52:39.241756Z"
    }
   },
   "outputs": [],
   "execution_count": 21
  },
  {
   "cell_type": "code",
   "source": [
    "# @title Visualização do resultado do pré-processamento\n",
    "\n",
    "X_processed = preprocessor.fit_transform(X)\n",
    "print(f\"Dimensões dos dados após o pré-processamento: {X_processed.shape}\")\n",
    "\n",
    "print(\"\\nPipeline de pré-processamento criado com sucesso!\")"
   ],
   "metadata": {
    "colab": {
     "base_uri": "https://localhost:8080/"
    },
    "id": "IX2zPBm5QwpO",
    "outputId": "e083bc2f-db04-464f-b013-3fa67c483ae9",
    "ExecuteTime": {
     "end_time": "2025-11-01T16:52:39.290207Z",
     "start_time": "2025-11-01T16:52:39.262511Z"
    }
   },
   "outputs": [
    {
     "name": "stdout",
     "output_type": "stream",
     "text": [
      "Dimensões dos dados após o pré-processamento: (452, 15)\n",
      "\n",
      "Pipeline de pré-processamento criado com sucesso!\n"
     ]
    }
   ],
   "execution_count": 22
  },
  {
   "cell_type": "markdown",
   "source": [
    "## 3. Validação dos modelos"
   ],
   "metadata": {
    "id": "-RtKxvJETvlw"
   }
  },
  {
   "cell_type": "markdown",
   "source": [
    "### Método de validação\n",
    "\n",
    "1. Escolhemos K-Fold Cross-Validation pois é robusto e garante que todos os dados\n",
    "sejam utilizados tanto para treino quanto para teste. Isso é importante para a nossa base de dados, que não é muito grande, evitando desperdício de informação e garantindo resultados mais estáveis e confiáveis.\n",
    "\n",
    "2. Esse método consiste em dividir o conjunto de dados em k subconjuntos (ou folds) de tamanhos semelhantes. Em cada iteração, um dos folds é reservado para teste e os demais são utilizados para o treinamento do modelo, repetindo o processo até que todas as partições tenham sido utilizadas como conjunto de teste.\n",
    "\n",
    "3. Essa estratégia é amplamente adotada por equilibrar precisão estatística e eficiência computacional, reduzindo o viés que poderia ocorrer caso se utilizasse apenas uma divisão fixa dos dados (como no método holdout). Além disso, a técnica permite uma estimativa mais robusta da capacidade de generalização dos modelos, fundamental em problemas reais de aprendizado supervisionado."
   ],
   "metadata": {
    "id": "Uq6DNRZ4FzlQ"
   }
  },
  {
   "cell_type": "markdown",
   "source": [
    "### Modelos comparados\n",
    "\n",
    "1. DummyRegressor\n",
    "\n",
    "    O Dummy Regressor é um modelo de referência (baseline) usado para comparação. Ele não realiza aprendizado real: suas previsões são baseadas em estratégias simples, como a média, a mediana ou o valor mais frequente do conjunto de treino.\n",
    "    No contexto do projeto, o objetivo é avaliar se os modelos preditivos realmente superam um desempenho aleatório, servindo como ponto de partida para validar a eficácia dos demais algoritmos.\n",
    "\n",
    "2. LinearRegression\n",
    "\n",
    "    O modelo de Regressão Linear busca estabelecer uma relação linear entre as variáveis independentes (características do sono) e a variável dependente (eficiência do sono). Ele assume que essa relação pode ser representada por uma combinação linear dos preditores, ajustando os coeficientes de forma a minimizar o erro quadrático médio.\n",
    "    Trata-se de um modelo simples, interpretável e eficaz quando há correlação linear entre as variáveis. No projeto, ele fornece uma base para comparar métodos mais complexos.\n",
    "\n",
    "3. DecisionTreeRegressor\n",
    "\n",
    "    O Regressor de Árvore de Decisão constrói uma estrutura hierárquica de decisões, dividindo o conjunto de dados em ramos com base em condições que maximizam a homogeneidade das saídas. Cada nó interno representa uma condição sobre uma variável, e as folhas representam previsões numéricas.\n",
    "    Esse modelo captura relações não lineares e interações complexas entre variáveis, sendo útil para explorar padrões mais sofisticados de comportamento do sono. Entretanto, ele pode sofrer de overfitting se não houver limitação de profundidade ou critérios de parada adequados.\n",
    "\n",
    "4. KNeighborsRegressor\n",
    "\n",
    "    O K-Nearest Neighbors Regressor (KNN) baseia-se na similaridade entre observações. Dada uma nova entrada, o modelo procura os k exemplos mais próximos no conjunto de treino (segundo uma métrica de distância, geralmente a euclidiana) e calcula a média dos valores-alvo desses vizinhos.\n",
    "    É um modelo não paramétrico e intuitivo, eficaz quando há padrões locais nos dados. Contudo, sua performance depende fortemente da escolha de k e da escala das variáveis — por isso a normalização é essencial no pipeline.\n",
    "\n",
    "5. SVR (Support Vector Regressor)\n",
    "\n",
    "    O Support Vector Regressor é uma adaptação do SVM (Support Vector Machine) para tarefas de regressão. Ele busca encontrar uma função que aproxime os dados dentro de uma margem de tolerância (ε), minimizando o erro de predição e a complexidade do modelo.\n",
    "    O SVR é robusto a outliers e capaz de modelar relações não lineares por meio do uso de kernels (como o radial basis function – RBF). No projeto, ele representa uma abordagem mais sofisticada, adequada para capturar padrões complexos na eficiência do sono.\n",
    "\n",
    "6.  Random Forest\n",
    "\n",
    "    O Random Forest funciona criando um grando número de árvores de deisão independentes na etapa de treinamento. No treinamento cada árvore é treinada com uma amostra aleatória dos dados, ao fazer as divisões ele apenas considera um subconjunto aleatório de features.Para fazer a previsão, o modelo coleta o \"voto\" de cada arvore(Se estiver usando para classificação) ou tira a média de suas previsão(se estiver usando regressão). É um método robusto, fácil de usar e muito resistente ao overfitting.\n",
    "\n",
    "7. Gradient Boosting\n",
    "\n",
    "    O gradiient boosting funciona construindo árvores de forma sequencial, onde cada árvore é treinada apenas para corrigir erros específicos que foram cometidos pelas árvores anteriores. O modelo começa fazendo uma previsão simples na primeira árvore e, a cada passo, foca nos erros que ainda precisam ser corrigidos, adicionando uma árvore \"especialista\" nos erros recebidos. Esse processo de desenvolvimento continuo geralmente tem como resultados modelos de altíssima precisão, porém ele exige mais cuidados no ajuste para evitar overfitting."
   ],
   "metadata": {
    "id": "z0BXO1OfSZua"
   }
  },
  {
   "cell_type": "code",
   "source": [
    "# @title Validação dos modelos\n",
    "\n",
    "# Definir a Validação Cruzada\n",
    "kf = KFold(n_splits=30, shuffle=True, random_state=42)\n",
    "print(\"Validação com K-Fold definida (30 folds).\\n\")\n",
    "\n",
    "# Definir os modelos para comparação\n",
    "models = {\n",
    "    'Dummy': DummyRegressor(strategy='mean'),\n",
    "    'Linear Regression': LinearRegression(),\n",
    "    'Decision Tree': DecisionTreeRegressor(random_state=42),\n",
    "    'KNN': KNeighborsRegressor(),\n",
    "    'SVR': SVR(),\n",
    "    'Random Forest': RandomForestRegressor(random_state=42),\n",
    "    'Gradient Boosting': GradientBoostingRegressor(random_state=42)\n",
    "}\n",
    "\n",
    "# Definir as métricas\n",
    "scoring_metrics = {\n",
    "    'r2': 'r2',\n",
    "    'mae': 'neg_mean_absolute_error',\n",
    "    'mse': 'neg_mean_squared_error'\n",
    "}\n",
    "\n",
    "# Avaliar os modelos\n",
    "all_results = {}\n",
    "summary_results = {}\n",
    "\n",
    "print(\"Iniciando a validação cruzada para todos os modelos...\")\n",
    "\n",
    "for name, model in models.items():\n",
    "    # Criar o pipeline completo\n",
    "    pipeline = Pipeline(steps=[('preprocessor', preprocessor),\n",
    "                              ('model', model)])\n",
    "\n",
    "    scores = cross_validate(pipeline, X, y, cv=kf, scoring=scoring_metrics)\n",
    "    all_results[name] = scores\n",
    "\n",
    "    summary_results[name] = {\n",
    "        'R² (Média)': scores['test_r2'].mean(),\n",
    "        'MAE (Média)': -scores['test_mae'].mean(), # Inverter o sinal\n",
    "        'MSE (Média)': -scores['test_mse'].mean()  # Inverter o sinal\n",
    "    }\n",
    "    print(f\"  ...{name} avaliado.\")\n",
    "\n",
    "print(\"\\nValidação concluída!\\n\")\n",
    "\n",
    "# Transformar o resumo em DataFrame para visualização\n",
    "results_df = pd.DataFrame(summary_results).T\n",
    "\n",
    "# Ordenar pelo R² (do maior para o menor)\n",
    "results_df = results_df.sort_values(by='R² (Média)', ascending=False)\n",
    "\n",
    "# 6. Mostrar tabela de resultados\n",
    "display(results_df.style\n",
    "        .highlight_max(subset=['R² (Média)'], color='lightgreen')\n",
    "        .highlight_min(subset=['MAE (Média)', 'MSE (Média)'], color='lightgreen'))"
   ],
   "metadata": {
    "colab": {
     "base_uri": "https://localhost:8080/",
     "height": 495
    },
    "id": "JrFQvtvnJNRu",
    "outputId": "302b9911-ddc1-4180-deca-d35a06a4d58f",
    "ExecuteTime": {
     "end_time": "2025-11-01T16:53:00.125602Z",
     "start_time": "2025-11-01T16:52:39.302649Z"
    }
   },
   "outputs": [
    {
     "name": "stdout",
     "output_type": "stream",
     "text": [
      "Validação com K-Fold definida (30 folds).\n",
      "\n",
      "Iniciando a validação cruzada para todos os modelos...\n",
      "  ...Dummy avaliado.\n",
      "  ...Linear Regression avaliado.\n",
      "  ...Decision Tree avaliado.\n",
      "  ...KNN avaliado.\n",
      "  ...SVR avaliado.\n",
      "  ...Random Forest avaliado.\n",
      "  ...Gradient Boosting avaliado.\n",
      "\n",
      "Validação concluída!\n",
      "\n"
     ]
    },
    {
     "data": {
      "text/plain": [
       "<pandas.io.formats.style.Styler at 0x1e83fdc2cb0>"
      ],
      "text/html": [
       "<style type=\"text/css\">\n",
       "#T_7e59b_row0_col0, #T_7e59b_row0_col1, #T_7e59b_row1_col2 {\n",
       "  background-color: lightgreen;\n",
       "}\n",
       "</style>\n",
       "<table id=\"T_7e59b\">\n",
       "  <thead>\n",
       "    <tr>\n",
       "      <th class=\"blank level0\" >&nbsp;</th>\n",
       "      <th id=\"T_7e59b_level0_col0\" class=\"col_heading level0 col0\" >R² (Média)</th>\n",
       "      <th id=\"T_7e59b_level0_col1\" class=\"col_heading level0 col1\" >MAE (Média)</th>\n",
       "      <th id=\"T_7e59b_level0_col2\" class=\"col_heading level0 col2\" >MSE (Média)</th>\n",
       "    </tr>\n",
       "  </thead>\n",
       "  <tbody>\n",
       "    <tr>\n",
       "      <th id=\"T_7e59b_level0_row0\" class=\"row_heading level0 row0\" >Gradient Boosting</th>\n",
       "      <td id=\"T_7e59b_row0_col0\" class=\"data row0 col0\" >0.842319</td>\n",
       "      <td id=\"T_7e59b_row0_col1\" class=\"data row0 col1\" >0.037507</td>\n",
       "      <td id=\"T_7e59b_row0_col2\" class=\"data row0 col2\" >0.002441</td>\n",
       "    </tr>\n",
       "    <tr>\n",
       "      <th id=\"T_7e59b_level0_row1\" class=\"row_heading level0 row1\" >Random Forest</th>\n",
       "      <td id=\"T_7e59b_row1_col0\" class=\"data row1 col0\" >0.842305</td>\n",
       "      <td id=\"T_7e59b_row1_col1\" class=\"data row1 col1\" >0.038219</td>\n",
       "      <td id=\"T_7e59b_row1_col2\" class=\"data row1 col2\" >0.002440</td>\n",
       "    </tr>\n",
       "    <tr>\n",
       "      <th id=\"T_7e59b_level0_row2\" class=\"row_heading level0 row2\" >Linear Regression</th>\n",
       "      <td id=\"T_7e59b_row2_col0\" class=\"data row2 col0\" >0.761281</td>\n",
       "      <td id=\"T_7e59b_row2_col1\" class=\"data row2 col1\" >0.049634</td>\n",
       "      <td id=\"T_7e59b_row2_col2\" class=\"data row2 col2\" >0.003801</td>\n",
       "    </tr>\n",
       "    <tr>\n",
       "      <th id=\"T_7e59b_level0_row3\" class=\"row_heading level0 row3\" >KNN</th>\n",
       "      <td id=\"T_7e59b_row3_col0\" class=\"data row3 col0\" >0.759352</td>\n",
       "      <td id=\"T_7e59b_row3_col1\" class=\"data row3 col1\" >0.047638</td>\n",
       "      <td id=\"T_7e59b_row3_col2\" class=\"data row3 col2\" >0.003751</td>\n",
       "    </tr>\n",
       "    <tr>\n",
       "      <th id=\"T_7e59b_level0_row4\" class=\"row_heading level0 row4\" >SVR</th>\n",
       "      <td id=\"T_7e59b_row4_col0\" class=\"data row4 col0\" >0.706218</td>\n",
       "      <td id=\"T_7e59b_row4_col1\" class=\"data row4 col1\" >0.058250</td>\n",
       "      <td id=\"T_7e59b_row4_col2\" class=\"data row4 col2\" >0.004781</td>\n",
       "    </tr>\n",
       "    <tr>\n",
       "      <th id=\"T_7e59b_level0_row5\" class=\"row_heading level0 row5\" >Decision Tree</th>\n",
       "      <td id=\"T_7e59b_row5_col0\" class=\"data row5 col0\" >0.702851</td>\n",
       "      <td id=\"T_7e59b_row5_col1\" class=\"data row5 col1\" >0.050889</td>\n",
       "      <td id=\"T_7e59b_row5_col2\" class=\"data row5 col2\" >0.004615</td>\n",
       "    </tr>\n",
       "    <tr>\n",
       "      <th id=\"T_7e59b_level0_row6\" class=\"row_heading level0 row6\" >Dummy</th>\n",
       "      <td id=\"T_7e59b_row6_col0\" class=\"data row6 col0\" >-0.068868</td>\n",
       "      <td id=\"T_7e59b_row6_col1\" class=\"data row6 col1\" >0.114266</td>\n",
       "      <td id=\"T_7e59b_row6_col2\" class=\"data row6 col2\" >0.018308</td>\n",
       "    </tr>\n",
       "  </tbody>\n",
       "</table>\n"
      ]
     },
     "metadata": {},
     "output_type": "display_data",
     "jetTransient": {
      "display_id": null
     }
    }
   ],
   "execution_count": 23
  },
  {
   "cell_type": "code",
   "source": [
    "# @title Visualização dos resultados da Validação de Modelos\n",
    "\n",
    "# Gráficos comparativos de RMSE e R²\n",
    "results_df.plot(kind='bar', figsize=(15,5))\n",
    "plt.title('Desempenho dos Modelos (K-Fold)')\n",
    "plt.ylabel('Score')\n",
    "plt.xticks(rotation=0)\n",
    "plt.grid(axis='y', linestyle='--', alpha=0.7)\n",
    "plt.show()"
   ],
   "metadata": {
    "id": "SaGzBRpGJguV",
    "colab": {
     "base_uri": "https://localhost:8080/",
     "height": 468
    },
    "outputId": "d85b57b5-fe28-4b5a-c267-cacb766ac41d",
    "ExecuteTime": {
     "end_time": "2025-11-01T16:53:00.573780Z",
     "start_time": "2025-11-01T16:53:00.134190Z"
    }
   },
   "outputs": [
    {
     "data": {
      "text/plain": [
       "<Figure size 1500x500 with 1 Axes>"
      ],
      "image/png": "[encoded data removed]"
     },
     "metadata": {},
     "output_type": "display_data",
     "jetTransient": {
      "display_id": null
     }
    }
   ],
   "execution_count": 24
  },
  {
   "cell_type": "code",
   "source": [
    "# @title Gráficos de Boxplot (Análise de Estabilidade dos Modelos)\n",
    "\n",
    "import seaborn as sns\n",
    "import matplotlib.pyplot as plt\n",
    "\n",
    "# Preparar os dados para os boxplots\n",
    "plot_data = []\n",
    "for model_name, scores in all_results.items():\n",
    "    # Pegar os scores de R²\n",
    "    for r2_score in scores['test_r2']:\n",
    "        plot_data.append({'Modelo': model_name, 'Métrica': 'R²', 'Score': r2_score})\n",
    "\n",
    "    # Pegar os scores de MAE (e inverter o sinal para positivo)\n",
    "    for mae_score in -scores['test_mae']:\n",
    "        plot_data.append({'Modelo': model_name, 'Métrica': 'MAE', 'Score': mae_score})\n",
    "\n",
    "df_plot = pd.DataFrame(plot_data)\n",
    "\n",
    "# Criar o Boxplot para R²\n",
    "plt.figure(figsize=(12, 6))\n",
    "sns.boxplot(\n",
    "    data=df_plot[df_plot['Métrica'] == 'R²'],\n",
    "    x='Modelo',\n",
    "    y='Score',\n",
    "    order=results_df.index\n",
    ")\n",
    "plt.title('Distribuição dos Scores R² entre os Modelos (30 Folds)')\n",
    "plt.ylabel('Score R²')\n",
    "plt.xlabel('Modelo')\n",
    "plt.grid(axis='y', linestyle='--', alpha=0.7)\n",
    "plt.show()\n",
    "\n",
    "# Criar o Boxplot para MAE\n",
    "plt.figure(figsize=(12, 6))\n",
    "sns.boxplot(\n",
    "    data=df_plot[df_plot['Métrica'] == 'MAE'],\n",
    "    x='Modelo',\n",
    "    y='Score',\n",
    "    order=results_df.index # Ordena os boxplots\n",
    ")\n",
    "plt.title('Distribuição dos Scores MAE entre os Modelos (30 Folds)')\n",
    "plt.ylabel('Erro Médio Absoluto (MAE)')\n",
    "plt.xlabel('Modelo')\n",
    "plt.grid(axis='y', linestyle='--', alpha=0.7)\n",
    "plt.show()"
   ],
   "metadata": {
    "colab": {
     "base_uri": "https://localhost:8080/",
     "height": 1000
    },
    "cellView": "form",
    "id": "NHRsf11tq9zX",
    "outputId": "30576699-717f-4c7d-fc7d-68d14aa32020",
    "ExecuteTime": {
     "end_time": "2025-11-01T16:53:01.164711Z",
     "start_time": "2025-11-01T16:53:00.580676Z"
    }
   },
   "outputs": [
    {
     "data": {
      "text/plain": [
       "<Figure size 1200x600 with 1 Axes>"
      ],
      "image/png": "[encoded data removed]"
     },
     "metadata": {},
     "output_type": "display_data",
     "jetTransient": {
      "display_id": null
     }
    },
    {
     "data": {
      "text/plain": [
       "<Figure size 1200x600 with 1 Axes>"
      ],
      "image/png": "[encoded data removed]"
     },
     "metadata": {},
     "output_type": "display_data",
     "jetTransient": {
      "display_id": null
     }
    }
   ],
   "execution_count": 25
  },
  {
   "cell_type": "code",
   "source": [
    "# @title Seleção automática do melhor modelo\n",
    "\n",
    "best_model_name = results_df.index[0]\n",
    "\n",
    "# Definir os modelos que não precisam de tuning\n",
    "# (Dummy e Regressão Linear não têm hiperparâmetros complexos para otimizar)\n",
    "MODELS_SEM_TUNING = ['Dummy', 'Linear Regression']\n",
    "\n",
    "if best_model_name in MODELS_SEM_TUNING:\n",
    "    print(f\"O melhor modelo foi o '{best_model_name}'.\")\n",
    "    print(\"Este modelo não possui hiperparâmetros complexos para otimização (tuning).\")\n",
    "    run_tuning = False\n",
    "else:\n",
    "    print(f\"O melhor modelo identificado para tuning é: {best_model_name}\")\n",
    "    run_tuning = True"
   ],
   "metadata": {
    "colab": {
     "base_uri": "https://localhost:8080/"
    },
    "id": "jtABm8RMi5Er",
    "outputId": "ca73f1a2-38c5-4f10-e0fd-832ce0ec77b5",
    "ExecuteTime": {
     "end_time": "2025-11-01T16:53:01.191989Z",
     "start_time": "2025-11-01T16:53:01.176352Z"
    }
   },
   "outputs": [
    {
     "name": "stdout",
     "output_type": "stream",
     "text": [
      "O melhor modelo identificado para tuning é: Gradient Boosting\n"
     ]
    }
   ],
   "execution_count": 26
  },
  {
   "cell_type": "code",
   "source": [
    "# @title Otimização de Hiperparâmetros\n",
    "\n",
    "# Só executa o tuning se o melhor modelo não for um dos básicos\n",
    "if run_tuning:\n",
    "    print(f\"Iniciando o tuning para o modelo: {best_model_name}...\")\n",
    "\n",
    "    # Definir os grids de parâmetros que podemos querer testar\n",
    "    # Os nomes (ex: 'Random Forest') devem ser idênticos aos usados anteriormente\n",
    "    # E os parâmetros devem começar com 'model__' (o nome do passo no pipeline)\n",
    "    param_grids = {\n",
    "        'Decision Tree': {\n",
    "            'model__max_depth': [10, 20, None],\n",
    "            'model__min_samples_leaf': [1, 2, 4],\n",
    "            'model__max_features': ['sqrt', 'log2', None]\n",
    "        },\n",
    "        'KNN': {\n",
    "            'model__n_neighbors': [3, 5, 7, 9],\n",
    "            'model__weights': ['uniform', 'distance'],\n",
    "            'model__p': [1, 2] # 1=Manhattan, 2=Euclidiana\n",
    "        },\n",
    "        'SVR': {\n",
    "            'model__C': [0.1, 1, 10],\n",
    "            'model__kernel': ['linear', 'rbf'],\n",
    "            'model__epsilon': [0.01, 0.1]\n",
    "        },\n",
    "        'Random Forest': {\n",
    "            'model__n_estimators': [100, 200],\n",
    "            'model__max_depth': [10, 20, None],\n",
    "            'model__min_samples_leaf': [1, 2]\n",
    "        },\n",
    "        'Gradient Boosting': {\n",
    "            'model__n_estimators': [100, 200],\n",
    "            'model__learning_rate': [0.01, 0.1],\n",
    "            'model__max_depth': [3, 5]\n",
    "        }\n",
    "    }\n",
    "\n",
    "    # Selecionar o modelo e o grid corretos\n",
    "    model_to_tune = models[best_model_name] # Pega o objeto do modelo\n",
    "    grid_to_use = param_grids[best_model_name] # Pega o grid de parâmetros\n",
    "\n",
    "    # Criar o pipeline de tuning\n",
    "    pipeline_to_tune = Pipeline(steps=[('preprocessor', preprocessor),\n",
    "                                      ('model', model_to_tune)])\n",
    "\n",
    "    # Configurar e executar o GridSearchCV\n",
    "    # Usando 'r2' como métrica e 10 folds para ser mais rápido que os 30\n",
    "    grid_search = GridSearchCV(\n",
    "        estimator=pipeline_to_tune,\n",
    "        param_grid=grid_to_use,\n",
    "        cv=10,\n",
    "        scoring='r2',\n",
    "        n_jobs=-1, # Usar todos os processadores\n",
    "        verbose=1  # Mostrar progresso\n",
    "    )\n",
    "\n",
    "    # Executar o tuning\n",
    "    grid_search.fit(X, y)\n",
    "\n",
    "    # Mostrar os resultados\n",
    "    print(\"\\nTuning concluído!\")\n",
    "    print(f\"Melhor pontuação R² (Média) após o tuning: {grid_search.best_score_:.4f}\")\n",
    "    print(\"Melhores parâmetros encontrados:\")\n",
    "    print(grid_search.best_params_)\n",
    "\n",
    "    # Modelo final\n",
    "    modelo_final_otimizado = grid_search.best_estimator_\n",
    "    print(f\"\\nModelo final otimizado!\")\n",
    "\n",
    "else:\n",
    "    print(\"Execução do tuning pulada.\")"
   ],
   "metadata": {
    "colab": {
     "base_uri": "https://localhost:8080/"
    },
    "id": "eO80XwZkjPSu",
    "outputId": "73e8f2ef-a1e3-4f4e-bdf3-f8ec11142866",
    "ExecuteTime": {
     "end_time": "2025-11-01T16:53:07.385328Z",
     "start_time": "2025-11-01T16:53:01.197751Z"
    }
   },
   "outputs": [
    {
     "name": "stdout",
     "output_type": "stream",
     "text": [
      "Iniciando o tuning para o modelo: Gradient Boosting...\n",
      "Fitting 10 folds for each of 8 candidates, totalling 80 fits\n",
      "\n",
      "Tuning concluído!\n",
      "Melhor pontuação R² (Média) após o tuning: 0.8514\n",
      "Melhores parâmetros encontrados:\n",
      "{'model__learning_rate': 0.1, 'model__max_depth': 3, 'model__n_estimators': 100}\n",
      "\n",
      "Modelo final otimizado!\n"
     ]
    }
   ],
   "execution_count": 27
  },
  {
   "cell_type": "code",
   "source": [
    "# @title Modelagem e Comparação\n",
    "\n",
    "display(Markdown(\"### Resultados da Validação K-Fold\"))\n",
    "\n",
    "display(results_df.style\n",
    "        .highlight_max(subset=['R² (Média)'], color='lightgreen')\n",
    "        .highlight_min(subset=['MAE (Média)', 'MSE (Média)'], color='lightgreen'))\n",
    "\n",
    "print(\"\\n\")\n",
    "\n",
    "display(Markdown(\"\"\"\n",
    "**Justificativa dos Modelos:**\n",
    "- **Dummy**: baseline para referência.\n",
    "- **Linear Regression**: rápido, interpretável, captura relações lineares.\n",
    "- **Decision Tree**: captura padrões não lineares e interações.\n",
    "- **KNN**: baseado em similaridade, bom para relações complexas.\n",
    "- **SVR**: lida com padrões complexos e alta dimensionalidade.\n",
    "- **Random Forest**: modelo *ensemble* que combina Árvores de Decisão para reduzir *overfitting* e melhorar a robustez.\n",
    "- **Gradient Boosting**: modelo *ensemble* que constrói árvores sequencialmente, corrigindo erros anteriores. Frequentemente apresenta altíssimo desempenho.\n",
    "\"\"\"))"
   ],
   "metadata": {
    "id": "Lo489iX7Kgow",
    "colab": {
     "base_uri": "https://localhost:8080/",
     "height": 519
    },
    "outputId": "c99b405c-b5e4-47ec-babe-d2f3ab8a71b3",
    "ExecuteTime": {
     "end_time": "2025-11-01T16:53:07.412866Z",
     "start_time": "2025-11-01T16:53:07.385328Z"
    }
   },
   "outputs": [
    {
     "data": {
      "text/plain": [
       "<IPython.core.display.Markdown object>"
      ],
      "text/markdown": "### Resultados da Validação K-Fold"
     },
     "metadata": {},
     "output_type": "display_data",
     "jetTransient": {
      "display_id": null
     }
    },
    {
     "data": {
      "text/plain": [
       "<pandas.io.formats.style.Styler at 0x1e83dfd8fa0>"
      ],
      "text/html": [
       "<style type=\"text/css\">\n",
       "#T_a798b_row0_col0, #T_a798b_row0_col1, #T_a798b_row1_col2 {\n",
       "  background-color: lightgreen;\n",
       "}\n",
       "</style>\n",
       "<table id=\"T_a798b\">\n",
       "  <thead>\n",
       "    <tr>\n",
       "      <th class=\"blank level0\" >&nbsp;</th>\n",
       "      <th id=\"T_a798b_level0_col0\" class=\"col_heading level0 col0\" >R² (Média)</th>\n",
       "      <th id=\"T_a798b_level0_col1\" class=\"col_heading level0 col1\" >MAE (Média)</th>\n",
       "      <th id=\"T_a798b_level0_col2\" class=\"col_heading level0 col2\" >MSE (Média)</th>\n",
       "    </tr>\n",
       "  </thead>\n",
       "  <tbody>\n",
       "    <tr>\n",
       "      <th id=\"T_a798b_level0_row0\" class=\"row_heading level0 row0\" >Gradient Boosting</th>\n",
       "      <td id=\"T_a798b_row0_col0\" class=\"data row0 col0\" >0.842319</td>\n",
       "      <td id=\"T_a798b_row0_col1\" class=\"data row0 col1\" >0.037507</td>\n",
       "      <td id=\"T_a798b_row0_col2\" class=\"data row0 col2\" >0.002441</td>\n",
       "    </tr>\n",
       "    <tr>\n",
       "      <th id=\"T_a798b_level0_row1\" class=\"row_heading level0 row1\" >Random Forest</th>\n",
       "      <td id=\"T_a798b_row1_col0\" class=\"data row1 col0\" >0.842305</td>\n",
       "      <td id=\"T_a798b_row1_col1\" class=\"data row1 col1\" >0.038219</td>\n",
       "      <td id=\"T_a798b_row1_col2\" class=\"data row1 col2\" >0.002440</td>\n",
       "    </tr>\n",
       "    <tr>\n",
       "      <th id=\"T_a798b_level0_row2\" class=\"row_heading level0 row2\" >Linear Regression</th>\n",
       "      <td id=\"T_a798b_row2_col0\" class=\"data row2 col0\" >0.761281</td>\n",
       "      <td id=\"T_a798b_row2_col1\" class=\"data row2 col1\" >0.049634</td>\n",
       "      <td id=\"T_a798b_row2_col2\" class=\"data row2 col2\" >0.003801</td>\n",
       "    </tr>\n",
       "    <tr>\n",
       "      <th id=\"T_a798b_level0_row3\" class=\"row_heading level0 row3\" >KNN</th>\n",
       "      <td id=\"T_a798b_row3_col0\" class=\"data row3 col0\" >0.759352</td>\n",
       "      <td id=\"T_a798b_row3_col1\" class=\"data row3 col1\" >0.047638</td>\n",
       "      <td id=\"T_a798b_row3_col2\" class=\"data row3 col2\" >0.003751</td>\n",
       "    </tr>\n",
       "    <tr>\n",
       "      <th id=\"T_a798b_level0_row4\" class=\"row_heading level0 row4\" >SVR</th>\n",
       "      <td id=\"T_a798b_row4_col0\" class=\"data row4 col0\" >0.706218</td>\n",
       "      <td id=\"T_a798b_row4_col1\" class=\"data row4 col1\" >0.058250</td>\n",
       "      <td id=\"T_a798b_row4_col2\" class=\"data row4 col2\" >0.004781</td>\n",
       "    </tr>\n",
       "    <tr>\n",
       "      <th id=\"T_a798b_level0_row5\" class=\"row_heading level0 row5\" >Decision Tree</th>\n",
       "      <td id=\"T_a798b_row5_col0\" class=\"data row5 col0\" >0.702851</td>\n",
       "      <td id=\"T_a798b_row5_col1\" class=\"data row5 col1\" >0.050889</td>\n",
       "      <td id=\"T_a798b_row5_col2\" class=\"data row5 col2\" >0.004615</td>\n",
       "    </tr>\n",
       "    <tr>\n",
       "      <th id=\"T_a798b_level0_row6\" class=\"row_heading level0 row6\" >Dummy</th>\n",
       "      <td id=\"T_a798b_row6_col0\" class=\"data row6 col0\" >-0.068868</td>\n",
       "      <td id=\"T_a798b_row6_col1\" class=\"data row6 col1\" >0.114266</td>\n",
       "      <td id=\"T_a798b_row6_col2\" class=\"data row6 col2\" >0.018308</td>\n",
       "    </tr>\n",
       "  </tbody>\n",
       "</table>\n"
      ]
     },
     "metadata": {},
     "output_type": "display_data",
     "jetTransient": {
      "display_id": null
     }
    },
    {
     "name": "stdout",
     "output_type": "stream",
     "text": [
      "\n",
      "\n"
     ]
    },
    {
     "data": {
      "text/plain": [
       "<IPython.core.display.Markdown object>"
      ],
      "text/markdown": "\n**Justificativa dos Modelos:**\n- **Dummy**: baseline para referência.\n- **Linear Regression**: rápido, interpretável, captura relações lineares.\n- **Decision Tree**: captura padrões não lineares e interações.\n- **KNN**: baseado em similaridade, bom para relações complexas.\n- **SVR**: lida com padrões complexos e alta dimensionalidade.\n- **Random Forest**: modelo *ensemble* que combina Árvores de Decisão para reduzir *overfitting* e melhorar a robustez.\n- **Gradient Boosting**: modelo *ensemble* que constrói árvores sequencialmente, corrigindo erros anteriores. Frequentemente apresenta altíssimo desempenho.\n"
     },
     "metadata": {},
     "output_type": "display_data",
     "jetTransient": {
      "display_id": null
     }
    }
   ],
   "execution_count": 28
  },
  {
   "cell_type": "markdown",
   "source": [
    "## 4. Resultados e Discussão"
   ],
   "metadata": {
    "id": "n70mN-Z7UzUj"
   }
  },
  {
   "cell_type": "code",
   "source": [
    "# @title Resumo dos resultados\n",
    "\n",
    "import matplotlib.pyplot as plt\n",
    "from IPython.display import display, Markdown\n",
    "\n",
    "# Gráfico 1: MAE (Média)\n",
    "# Usamos 'MAE (Média)' que é mais fácil de interpretar (é o erro médio)\n",
    "plt.figure(figsize=(15,5))\n",
    "plt.bar(results_df.index, results_df['MAE (Média)'], color='skyblue')\n",
    "plt.title('Comparação de MAE (Erro Médio Absoluto) entre Modelos')\n",
    "plt.ylabel('MAE (Média)')\n",
    "#plt.xticks(rotation=45, ha='right')\n",
    "plt.grid(axis='y', linestyle='--', alpha=0.7)\n",
    "plt.show()\n",
    "\n",
    "# Gráfico 2: R² (Média)\n",
    "plt.figure(figsize=(15,5))\n",
    "plt.bar(results_df.index, results_df['R² (Média)'], color='salmon')\n",
    "plt.title('Comparação de R² (Média) entre Modelos')\n",
    "plt.ylabel('R² (Média)')\n",
    "#plt.xticks(rotation=45, ha='right')\n",
    "plt.grid(axis='y', linestyle='--', alpha=0.7)\n",
    "plt.show()\n",
    "\n",
    "print(\"\\n\")\n",
    "\n",
    "# Discussão Resumida\n",
    "display(Markdown(\"\"\"\n",
    "**Observações sobre o desempenho:**\n",
    "- **Dummy** apresenta o pior desempenho em todas as métricas, como esperado, servindo como nosso ponto de referência mínimo.\n",
    "- **Linear Regression** e **SVR** mostram resultados intermediários, indicando que o problema possui componentes não-lineares que eles não capturam totalmente.\n",
    "- **Decision Tree** e **KNN** mostram uma melhora, capturando alguns padrões mais complexos.\n",
    "- **Random Forest** e **Gradient Boosting** (os modelos *ensemble*) provavelmente apresentarão os melhores resultados, mostrando grande capacidade de generalização, redução de erro (MAE/MSE) e maior explicação da variância (R²).\n",
    "##\n",
    "**Limitações:**\n",
    "- Dataset pequeno, pode limitar a generalização.\n",
    "- Alguns modelos podem ser sensíveis a outliers, mesmo após pré-processamento.\n",
    "\"\"\"))"
   ],
   "metadata": {
    "id": "gTt5rO8DMMGO",
    "colab": {
     "base_uri": "https://localhost:8080/",
     "height": 1000
    },
    "outputId": "8d1169f3-fa02-4ab5-8917-6ca86fc63c37",
    "ExecuteTime": {
     "end_time": "2025-11-01T16:53:07.903344Z",
     "start_time": "2025-11-01T16:53:07.430820Z"
    }
   },
   "outputs": [
    {
     "data": {
      "text/plain": [
       "<Figure size 1500x500 with 1 Axes>"
      ],
      "image/png": "[encoded data removed]"
     },
     "metadata": {},
     "output_type": "display_data",
     "jetTransient": {
      "display_id": null
     }
    },
    {
     "data": {
      "text/plain": [
       "<Figure size 1500x500 with 1 Axes>"
      ],
      "image/png": "[encoded data removed]"
     },
     "metadata": {},
     "output_type": "display_data",
     "jetTransient": {
      "display_id": null
     }
    },
    {
     "name": "stdout",
     "output_type": "stream",
     "text": [
      "\n",
      "\n"
     ]
    },
    {
     "data": {
      "text/plain": [
       "<IPython.core.display.Markdown object>"
      ],
      "text/markdown": "\n**Observações sobre o desempenho:**\n- **Dummy** apresenta o pior desempenho em todas as métricas, como esperado, servindo como nosso ponto de referência mínimo.\n- **Linear Regression** e **SVR** mostram resultados intermediários, indicando que o problema possui componentes não-lineares que eles não capturam totalmente.\n- **Decision Tree** e **KNN** mostram uma melhora, capturando alguns padrões mais complexos.\n- **Random Forest** e **Gradient Boosting** (os modelos *ensemble*) provavelmente apresentarão os melhores resultados, mostrando grande capacidade de generalização, redução de erro (MAE/MSE) e maior explicação da variância (R²).\n##\n**Limitações:**\n- Dataset pequeno, pode limitar a generalização.\n- Alguns modelos podem ser sensíveis a outliers, mesmo após pré-processamento.\n"
     },
     "metadata": {},
     "output_type": "display_data",
     "jetTransient": {
      "display_id": null
     }
    }
   ],
   "execution_count": 29
  }
 ]
}
